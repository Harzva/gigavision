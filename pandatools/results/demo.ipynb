{
 "cells": [
  {
   "cell_type": "code",
   "execution_count": 1,
   "metadata": {
    "tags": [
     "outputPrepend"
    ]
   },
   "outputs": [
    {
     "output_type": "error",
     "ename": "SyntaxError",
     "evalue": "invalid syntax (ImgSplit.py, line 162)",
     "traceback": [
      "Traceback \u001b[0;36m(most recent call last)\u001b[0m:\n",
      "  File \u001b[1;32m\"/opt/conda/lib/python3.6/site-packages/IPython/core/interactiveshell.py\"\u001b[0m, line \u001b[1;32m3296\u001b[0m, in \u001b[1;35mrun_code\u001b[0m\n    exec(code_obj, self.user_global_ns, self.user_ns)\n",
      "\u001b[0;36m  File \u001b[0;32m\"<ipython-input-1-5d4bea882778>\"\u001b[0;36m, line \u001b[0;32m2\u001b[0;36m, in \u001b[0;35m<module>\u001b[0;36m\u001b[0m\n\u001b[0;31m    from ImgSplit import ImgSplit\u001b[0m\n",
      "\u001b[0;36m  File \u001b[0;32m\"/root/data/gvision/PANDA-Toolkit-master/ImgSplit.py\"\u001b[0;36m, line \u001b[0;32m162\u001b[0m\n\u001b[0;31m    split annotations according to annotation mode###############222222222222222\u001b[0m\n\u001b[0m                    ^\u001b[0m\n\u001b[0;31mSyntaxError\u001b[0m\u001b[0;31m:\u001b[0m invalid syntax\n"
     ]
    }
   ],
   "source": [
    "import os\n",
    "from ImgSplit import ImgSplit\n",
    "basepath=r'/root/data/gvision/dataset/'#主目录\n",
    "annomode=\"person\"#模式\n",
    "addmode=\"image_train\"\n",
    "annofile=r\"person_bbox_TRAIN.json\"#文件  annofile=r\"\\vehicle_bbox_train.json\" opth则 annopath E:\\vehicle_bbox_train.json\n",
    "# annofile=r\"vtest.json\"\n",
    "outpath =r\"/root/data/gvision/dataset/image_TRAIN_person_split\"\n",
    "# print(outpath)\n",
    "if os.path.exists(outpath) !=True:\n",
    "    os.mkdir(outpath)\n",
    "outannofile =r\"person_bbox_TRAIN.json\"\n",
    "split = ImgSplit(basepath,annofile, annomode, outpath, outannofile,addmode)\n",
    "split.splitdata(0.5)"
   ]
  },
  {
   "cell_type": "code",
   "execution_count": 5,
   "metadata": {},
   "outputs": [
    {
     "output_type": "stream",
     "name": "stdout",
     "text": "/root/data/gvision/PANDA-Toolkit-master\n/root/data/gvision/PANDA-Toolkit-master\n"
    }
   ],
   "source": [
    "import os\n",
    "print(os.getcwd())\n",
    "os.chdir(\"/root/data/gvision/PANDA-Toolkit-master\") \n",
    "print(os.getcwd())"
   ]
  },
  {
   "cell_type": "code",
   "execution_count": null,
   "metadata": {},
   "outputs": [],
   "source": []
  },
  {
   "cell_type": "code",
   "execution_count": null,
   "metadata": {},
   "outputs": [],
   "source": []
  }
 ],
 "metadata": {
  "language_info": {
   "codemirror_mode": {
    "name": "ipython",
    "version": 3
   },
   "file_extension": ".py",
   "mimetype": "text/x-python",
   "name": "python",
   "nbconvert_exporter": "python",
   "pygments_lexer": "ipython3",
   "version": "3.6.8-final"
  },
  "orig_nbformat": 2,
  "kernelspec": {
   "name": "python36864bitbaseconda067b4ea7464744b89140b81dca02e289",
   "display_name": "Python 3.6.8 64-bit ('base': conda)"
  }
 },
 "nbformat": 4,
 "nbformat_minor": 2
}